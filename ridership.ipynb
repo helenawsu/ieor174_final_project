{
 "cells": [
  {
   "cell_type": "code",
   "execution_count": null,
   "metadata": {},
   "outputs": [
    {
     "name": "stdout",
     "output_type": "stream",
     "text": [
      "Ridership_202403.xlsx 2571\n",
      "Ridership_202402.xlsx 2527\n",
      "Ridership_202401 1.xlsx 1826\n",
      "Ridership_202405.xlsx 2135\n",
      "Ridership_202409.xlsx 3257\n",
      "Ridership_202408.xlsx 2461\n",
      "Ridership_202404.xlsx 2762\n",
      "Ridership_202407.xlsx 2616\n",
      "Ridership_202411.xlsx 3090\n",
      "Ridership_202312.xlsx 1429\n",
      "Ridership_202410.xlsx 3405\n",
      "Ridership_202406.xlsx 2172\n",
      "Values from column 'BE' and row 'BK' in each file:\n",
      "\n",
      "Total sum of values: 30251\n"
     ]
    }
   ],
   "source": [
    "import os\n",
    "import pandas as pd\n",
    "\n",
    "# Folder containing the 11 Excel files\n",
    "folder_path = \"ridership2024\"\n",
    "\n",
    "# Initialize variables\n",
    "total_sum = 0\n",
    "values = []  # To store individual values for printing\n",
    "\n",
    "# Loop through all Excel files in the folder\n",
    "for file_name in os.listdir(folder_path):\n",
    "    if file_name.endswith(\".xlsx\"):  # Process only Excel files\n",
    "        file_path = os.path.join(folder_path, file_name)\n",
    "        # Load the Excel file, skipping unnecessary rows\n",
    "        # Use `skiprows` to skip the blank lines and irrelevant header rows\n",
    "        if file_name == \"Ridership_202410.xlsx\":\n",
    "            df = pd.read_excel(file_path, skiprows=3)  # Adjust the number based on blank rows\n",
    "        elif file_name == \"Ridership_202312.xlsx\":\n",
    "            df = pd.read_excel(file_path, skiprows=1, sheet_name=3)\n",
    "        else:\n",
    "            df = pd.read_excel(file_path, skiprows=4)\n",
    "        # Ensure row 'BK' and column 'BE' exist\n",
    "        if \"BE\" in df.columns:\n",
    "            # Find row 'BK' and extract the value from column 'BE'\n",
    "            row_bk = df[df.iloc[:, 0] == \"BK\"]  # Filter row 'BK'\n",
    "            if not row_bk.empty:\n",
    "                # Extract the value from column 'BE' for row 'BK'\n",
    "                value = row_bk[\"BE\"].iloc[0]  # Access the value for row 'BK' and column 'BE'\n",
    "                values.append(value)  # Store the value\n",
    "                total_sum += value  # Add the value to the total sum\n",
    "                print(file_name, value)\n",
    "\n",
    "# Print each value and the total sum\n",
    "print(\"Values from column 'BE' and row 'BK' in each file:\")\n",
    "print(f\"\\nTotal sum of values: {total_sum}\")\n"
   ]
  },
  {
   "cell_type": "code",
   "execution_count": null,
   "metadata": {},
   "outputs": [],
   "source": []
  }
 ],
 "metadata": {
  "kernelspec": {
   "display_name": "ieor174",
   "language": "python",
   "name": "python3"
  },
  "language_info": {
   "codemirror_mode": {
    "name": "ipython",
    "version": 3
   },
   "file_extension": ".py",
   "mimetype": "text/x-python",
   "name": "python",
   "nbconvert_exporter": "python",
   "pygments_lexer": "ipython3",
   "version": "3.10.15"
  }
 },
 "nbformat": 4,
 "nbformat_minor": 2
}
